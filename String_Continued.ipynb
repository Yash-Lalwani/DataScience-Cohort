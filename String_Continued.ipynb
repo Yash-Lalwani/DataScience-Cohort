{
  "nbformat": 4,
  "nbformat_minor": 0,
  "metadata": {
    "colab": {
      "provenance": [],
      "authorship_tag": "ABX9TyNgBAsoS/XhTC84l3PQfZTA",
      "include_colab_link": true
    },
    "kernelspec": {
      "name": "python3",
      "display_name": "Python 3"
    },
    "language_info": {
      "name": "python"
    }
  },
  "cells": [
    {
      "cell_type": "markdown",
      "metadata": {
        "id": "view-in-github",
        "colab_type": "text"
      },
      "source": [
        "<a href=\"https://colab.research.google.com/github/Yash-Lalwani/DataScience-Cohort/blob/main/String_Continued.ipynb\" target=\"_parent\"><img src=\"https://colab.research.google.com/assets/colab-badge.svg\" alt=\"Open In Colab\"/></a>"
      ]
    },
    {
      "cell_type": "markdown",
      "source": [
        "# Comparing Strings"
      ],
      "metadata": {
        "id": "p_9o4HJrQebj"
      }
    },
    {
      "cell_type": "code",
      "execution_count": 2,
      "metadata": {
        "colab": {
          "base_uri": "https://localhost:8080/"
        },
        "id": "5SnXr5fnQRy0",
        "outputId": "9dd465cc-a45f-4961-e378-31cd76bc0e84"
      },
      "outputs": [
        {
          "output_type": "stream",
          "name": "stdout",
          "text": [
            "False\n",
            "True\n",
            "True\n",
            "False\n",
            "True\n",
            "False\n"
          ]
        }
      ],
      "source": [
        "string1 = \"apple\"\n",
        "string2 = \"banana\"\n",
        "\n",
        "print(string1 == string2) ## equal to\n",
        "print(string1 != string2)\n",
        "print(string1 < string2)\n",
        "print(string1 > string2)\n",
        "print(string1 <= string2)\n",
        "print(string1 >= string2)\n"
      ]
    },
    {
      "cell_type": "markdown",
      "source": [
        "to check the ascii value, so to compare strings python use ascii value"
      ],
      "metadata": {
        "id": "EuWyCoOXRNoD"
      }
    },
    {
      "cell_type": "code",
      "source": [
        "ord('a')"
      ],
      "metadata": {
        "colab": {
          "base_uri": "https://localhost:8080/"
        },
        "id": "wobBPStsRKOd",
        "outputId": "71bf6a58-5865-4d34-8a4a-c8ef08c324c8"
      },
      "execution_count": 4,
      "outputs": [
        {
          "output_type": "execute_result",
          "data": {
            "text/plain": [
              "97"
            ]
          },
          "metadata": {},
          "execution_count": 4
        }
      ]
    },
    {
      "cell_type": "code",
      "source": [
        "ord('Z')"
      ],
      "metadata": {
        "colab": {
          "base_uri": "https://localhost:8080/"
        },
        "id": "okxK7N7FRQV9",
        "outputId": "1cf2ee94-2214-4947-aaec-7acd2f8dd994"
      },
      "execution_count": 5,
      "outputs": [
        {
          "output_type": "execute_result",
          "data": {
            "text/plain": [
              "90"
            ]
          },
          "metadata": {},
          "execution_count": 5
        }
      ]
    },
    {
      "cell_type": "code",
      "source": [
        "\"Zebra\" < \"apple\""
      ],
      "metadata": {
        "colab": {
          "base_uri": "https://localhost:8080/"
        },
        "id": "FAezWmMsRf1R",
        "outputId": "bf1d8db1-97e7-44c1-8fc1-12178517ad4c"
      },
      "execution_count": 7,
      "outputs": [
        {
          "output_type": "execute_result",
          "data": {
            "text/plain": [
              "True"
            ]
          },
          "metadata": {},
          "execution_count": 7
        }
      ]
    },
    {
      "cell_type": "code",
      "source": [
        "\"zebra\" < \"apple\""
      ],
      "metadata": {
        "colab": {
          "base_uri": "https://localhost:8080/"
        },
        "id": "g23pq-r_Rky8",
        "outputId": "f766bc09-ca94-4947-94bd-80f8a18b2b7d"
      },
      "execution_count": 8,
      "outputs": [
        {
          "output_type": "execute_result",
          "data": {
            "text/plain": [
              "False"
            ]
          },
          "metadata": {},
          "execution_count": 8
        }
      ]
    },
    {
      "cell_type": "markdown",
      "source": [
        "#Functions for String -  1. replace()"
      ],
      "metadata": {
        "id": "QuFjE_OxR6ka"
      }
    },
    {
      "cell_type": "code",
      "source": [
        "orignial_string = \"Hello, World\"\n",
        "\n",
        "## to replace world with python\n",
        "new_String = orignial_string.replace(\"World\", \"Python\") # a new string will be made, string is immutable\n",
        "print(new_String)"
      ],
      "metadata": {
        "colab": {
          "base_uri": "https://localhost:8080/"
        },
        "id": "A0g_QhjfR9pR",
        "outputId": "5557ecc1-18e7-4ab2-88e6-d46c4c0bcc17"
      },
      "execution_count": 11,
      "outputs": [
        {
          "output_type": "stream",
          "name": "stdout",
          "text": [
            "Hello, Python\n"
          ]
        }
      ]
    },
    {
      "cell_type": "markdown",
      "source": [
        "# split()"
      ],
      "metadata": {
        "id": "w34wxz40Sxgj"
      }
    },
    {
      "cell_type": "code",
      "source": [
        "sentance = \"This is very interesting session\"\n",
        "words = sentance.split() ## will split based on spaces\n",
        "print(words)"
      ],
      "metadata": {
        "colab": {
          "base_uri": "https://localhost:8080/"
        },
        "id": "PhHRBzG9SESF",
        "outputId": "17687005-10d8-4353-9fa4-53f3e6b7a709"
      },
      "execution_count": 13,
      "outputs": [
        {
          "output_type": "stream",
          "name": "stdout",
          "text": [
            "['This', 'is', 'very', 'interesting', 'session']\n"
          ]
        }
      ]
    },
    {
      "cell_type": "code",
      "source": [
        "names = \"Yash, Tejas, Seema, Manoj, Ankit, Dimple\"\n",
        "name_list = names.split(\",\")\n",
        "print(name_list)\n",
        "#"
      ],
      "metadata": {
        "colab": {
          "base_uri": "https://localhost:8080/"
        },
        "id": "GxlxoU0eTQ8a",
        "outputId": "c665b290-d934-4498-e60b-994505bf32e4"
      },
      "execution_count": 16,
      "outputs": [
        {
          "output_type": "stream",
          "name": "stdout",
          "text": [
            "['Yash', ' Tejas', ' Seema', ' Manoj', ' Ankit', ' Dimple']\n"
          ]
        }
      ]
    },
    {
      "cell_type": "code",
      "source": [
        "string = \"Hello-World-Python\"\n",
        "words = string.split(\"-\")\n",
        "print(words)"
      ],
      "metadata": {
        "colab": {
          "base_uri": "https://localhost:8080/"
        },
        "id": "EdLUsOTSTi9X",
        "outputId": "33014a17-fcd8-477d-b463-b35cd843eb4e"
      },
      "execution_count": 18,
      "outputs": [
        {
          "output_type": "stream",
          "name": "stdout",
          "text": [
            "['Hello', 'World', 'Python']\n"
          ]
        }
      ]
    },
    {
      "cell_type": "code",
      "source": [
        "string = \"HelloWorld\"\n",
        "words = string.split(\"-\")\n",
        "print(words)"
      ],
      "metadata": {
        "colab": {
          "base_uri": "https://localhost:8080/"
        },
        "id": "4bBl8G2vTpY1",
        "outputId": "bd10db12-290c-4d96-f958-7d546682c494"
      },
      "execution_count": 25,
      "outputs": [
        {
          "output_type": "stream",
          "name": "stdout",
          "text": [
            "['HelloWorld']\n"
          ]
        }
      ]
    },
    {
      "cell_type": "markdown",
      "source": [
        "Formatting"
      ],
      "metadata": {
        "id": "4RS1xPWEUHbZ"
      }
    },
    {
      "cell_type": "code",
      "source": [
        "age = 30\n",
        "text = \"My name is Yash, I am \" + age + \" years old\"\n",
        "print(text)"
      ],
      "metadata": {
        "colab": {
          "base_uri": "https://localhost:8080/",
          "height": 180
        },
        "collapsed": true,
        "id": "tdol4I5uUF4e",
        "outputId": "01f2d325-399c-46a0-9e03-9ec3d596662d"
      },
      "execution_count": 27,
      "outputs": [
        {
          "output_type": "error",
          "ename": "TypeError",
          "evalue": "can only concatenate str (not \"int\") to str",
          "traceback": [
            "\u001b[0;31m---------------------------------------------------------------------------\u001b[0m",
            "\u001b[0;31mTypeError\u001b[0m                                 Traceback (most recent call last)",
            "\u001b[0;32m<ipython-input-27-9b68473ec9cb>\u001b[0m in \u001b[0;36m<cell line: 0>\u001b[0;34m()\u001b[0m\n\u001b[1;32m      1\u001b[0m \u001b[0mage\u001b[0m \u001b[0;34m=\u001b[0m \u001b[0;36m30\u001b[0m\u001b[0;34m\u001b[0m\u001b[0;34m\u001b[0m\u001b[0m\n\u001b[0;32m----> 2\u001b[0;31m \u001b[0mtext\u001b[0m \u001b[0;34m=\u001b[0m \u001b[0;34m\"My name is Yash, I am \"\u001b[0m \u001b[0;34m+\u001b[0m \u001b[0mage\u001b[0m \u001b[0;34m+\u001b[0m \u001b[0;34m\" years old\"\u001b[0m\u001b[0;34m\u001b[0m\u001b[0;34m\u001b[0m\u001b[0m\n\u001b[0m\u001b[1;32m      3\u001b[0m \u001b[0mprint\u001b[0m\u001b[0;34m(\u001b[0m\u001b[0mtext\u001b[0m\u001b[0;34m)\u001b[0m\u001b[0;34m\u001b[0m\u001b[0;34m\u001b[0m\u001b[0m\n",
            "\u001b[0;31mTypeError\u001b[0m: can only concatenate str (not \"int\") to str"
          ]
        }
      ]
    },
    {
      "cell_type": "code",
      "source": [
        "age = 30\n",
        "text = f\"My name is Yash, I am {age} years old\"\n",
        "print(text)"
      ],
      "metadata": {
        "colab": {
          "base_uri": "https://localhost:8080/"
        },
        "id": "J9Z_7nDPUanM",
        "outputId": "3f81d09d-9a85-4fab-e1e2-49ae6d4309b4"
      },
      "execution_count": 29,
      "outputs": [
        {
          "output_type": "stream",
          "name": "stdout",
          "text": [
            "My name is Yash, I am 30 years old\n"
          ]
        }
      ]
    },
    {
      "cell_type": "markdown",
      "source": [
        "strip() -> remove any white space from the begineing or the end, not from the middle\n"
      ],
      "metadata": {
        "id": "NJEn5sBUUhHr"
      }
    },
    {
      "cell_type": "code",
      "source": [
        "text = \"    hello, python developers      \"\n",
        "stripped_text = text.strip()\n",
        "print(stripped_text)"
      ],
      "metadata": {
        "colab": {
          "base_uri": "https://localhost:8080/"
        },
        "id": "JQ4k_Z6pUghz",
        "outputId": "76d9218b-47ef-48c4-af72-b4220b7c087f"
      },
      "execution_count": 34,
      "outputs": [
        {
          "output_type": "stream",
          "name": "stdout",
          "text": [
            "hello, python developers\n"
          ]
        }
      ]
    },
    {
      "cell_type": "code",
      "source": [
        "print(text)"
      ],
      "metadata": {
        "colab": {
          "base_uri": "https://localhost:8080/"
        },
        "id": "UVBuqxOfUz_E",
        "outputId": "69333e63-9f9b-43ca-ea07-29a4fe873ddf"
      },
      "execution_count": 35,
      "outputs": [
        {
          "output_type": "stream",
          "name": "stdout",
          "text": [
            "    hello, python developers      \n"
          ]
        }
      ]
    },
    {
      "cell_type": "markdown",
      "source": [
        "# index()"
      ],
      "metadata": {
        "id": "0CQaH9XcVAl8"
      }
    },
    {
      "cell_type": "code",
      "source": [
        "string = \"Hello, World!\"\n",
        "index = string.index(\"World\")\n",
        "print(index)\n"
      ],
      "metadata": {
        "colab": {
          "base_uri": "https://localhost:8080/"
        },
        "id": "WuM41dsyVAH_",
        "outputId": "04a2831b-b5ad-4022-9eae-e63e38291cf0"
      },
      "execution_count": 37,
      "outputs": [
        {
          "output_type": "stream",
          "name": "stdout",
          "text": [
            "7\n"
          ]
        }
      ]
    },
    {
      "cell_type": "code",
      "source": [
        "index = string.index(\"Python\")\n",
        "print(index)\n",
        "# error"
      ],
      "metadata": {
        "collapsed": true,
        "colab": {
          "base_uri": "https://localhost:8080/",
          "height": 180
        },
        "id": "DyEU_qevVab1",
        "outputId": "b81336d3-f983-4717-b508-c0452f9b9381"
      },
      "execution_count": 39,
      "outputs": [
        {
          "output_type": "error",
          "ename": "ValueError",
          "evalue": "substring not found",
          "traceback": [
            "\u001b[0;31m---------------------------------------------------------------------------\u001b[0m",
            "\u001b[0;31mValueError\u001b[0m                                Traceback (most recent call last)",
            "\u001b[0;32m<ipython-input-39-341b7da9cf91>\u001b[0m in \u001b[0;36m<cell line: 0>\u001b[0;34m()\u001b[0m\n\u001b[0;32m----> 1\u001b[0;31m \u001b[0mindex\u001b[0m \u001b[0;34m=\u001b[0m \u001b[0mstring\u001b[0m\u001b[0;34m.\u001b[0m\u001b[0mindex\u001b[0m\u001b[0;34m(\u001b[0m\u001b[0;34m\"Python\"\u001b[0m\u001b[0;34m)\u001b[0m\u001b[0;34m\u001b[0m\u001b[0;34m\u001b[0m\u001b[0m\n\u001b[0m\u001b[1;32m      2\u001b[0m \u001b[0mprint\u001b[0m\u001b[0;34m(\u001b[0m\u001b[0mindex\u001b[0m\u001b[0;34m)\u001b[0m\u001b[0;34m\u001b[0m\u001b[0;34m\u001b[0m\u001b[0m\n\u001b[1;32m      3\u001b[0m \u001b[0;31m# error\u001b[0m\u001b[0;34m\u001b[0m\u001b[0;34m\u001b[0m\u001b[0m\n",
            "\u001b[0;31mValueError\u001b[0m: substring not found"
          ]
        }
      ]
    },
    {
      "cell_type": "markdown",
      "source": [
        "# find()"
      ],
      "metadata": {
        "id": "vmPy3_DnVfdj"
      }
    },
    {
      "cell_type": "code",
      "source": [
        "string = \"Hello, World!\"\n",
        "index = string.find(\"World\")\n",
        "print(index)"
      ],
      "metadata": {
        "colab": {
          "base_uri": "https://localhost:8080/"
        },
        "id": "ffTPjj2CVeTQ",
        "outputId": "41f769c0-5ed4-451b-a1a9-c5baaf0777a9"
      },
      "execution_count": 41,
      "outputs": [
        {
          "output_type": "stream",
          "name": "stdout",
          "text": [
            "7\n"
          ]
        }
      ]
    },
    {
      "cell_type": "code",
      "source": [
        "index = string.find(\"Python\")\n",
        "print(index)\n",
        "# no error unlike index function, this is the only difference - index function returns value error"
      ],
      "metadata": {
        "colab": {
          "base_uri": "https://localhost:8080/"
        },
        "id": "-lNeh3ovVnyK",
        "outputId": "80d643d2-c580-4a99-f080-e7e445d78e44"
      },
      "execution_count": 43,
      "outputs": [
        {
          "output_type": "stream",
          "name": "stdout",
          "text": [
            "-1\n"
          ]
        }
      ]
    },
    {
      "cell_type": "markdown",
      "source": [
        "other useful functions"
      ],
      "metadata": {
        "id": "AcIYPJknWJQ5"
      }
    },
    {
      "cell_type": "code",
      "source": [
        "sentance = \"this is a sample sentance\"\n",
        "count = sentance.count(\"is\")\n",
        "print(count)"
      ],
      "metadata": {
        "colab": {
          "base_uri": "https://localhost:8080/"
        },
        "id": "q4IDdkX_Vzlq",
        "outputId": "bb42bf7a-6c62-4849-db4d-fd106f2f57be"
      },
      "execution_count": 45,
      "outputs": [
        {
          "output_type": "stream",
          "name": "stdout",
          "text": [
            "2\n"
          ]
        }
      ]
    },
    {
      "cell_type": "code",
      "source": [
        "text1 = \"Hello\"\n",
        "text2 = \"Hello123\"\n",
        "print(text1.isalpha())\n",
        "print(text2.isalpha())\n",
        "#"
      ],
      "metadata": {
        "colab": {
          "base_uri": "https://localhost:8080/"
        },
        "id": "9F0rimuBWB_m",
        "outputId": "c85f486b-3558-43c6-af21-3814ded0d1b3"
      },
      "execution_count": 47,
      "outputs": [
        {
          "output_type": "stream",
          "name": "stdout",
          "text": [
            "True\n",
            "False\n"
          ]
        }
      ]
    },
    {
      "cell_type": "markdown",
      "source": [
        "# isupper()\n",
        "\n",
        "# islower()\n",
        "\n",
        "# isdigit()"
      ],
      "metadata": {
        "id": "cdukte8EWtRI"
      }
    },
    {
      "cell_type": "code",
      "source": [
        "text = \"HELLO\"\n",
        "print(text.isupper())\n",
        "print(text.islower())\n",
        "print(text.isdigit())"
      ],
      "metadata": {
        "colab": {
          "base_uri": "https://localhost:8080/"
        },
        "id": "tLURN9osW2N0",
        "outputId": "23bc43c7-7ee2-4fe6-fd85-60918af6c203"
      },
      "execution_count": 48,
      "outputs": [
        {
          "output_type": "stream",
          "name": "stdout",
          "text": [
            "True\n",
            "False\n",
            "False\n"
          ]
        }
      ]
    },
    {
      "cell_type": "code",
      "source": [
        "text = \"Hello World! 1234\"\n",
        "swapped_text = text.swapcase() #will only swap textful data\n",
        "print(swapped_text)"
      ],
      "metadata": {
        "colab": {
          "base_uri": "https://localhost:8080/"
        },
        "id": "8Vkptj8gWwLs",
        "outputId": "cdb764ec-df2d-48cf-dbd5-4d54b1d1980a"
      },
      "execution_count": 49,
      "outputs": [
        {
          "output_type": "stream",
          "name": "stdout",
          "text": [
            "hELLO wORLD! 1234\n"
          ]
        }
      ]
    }
  ]
}