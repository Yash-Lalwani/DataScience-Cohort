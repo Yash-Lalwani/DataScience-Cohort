{
  "nbformat": 4,
  "nbformat_minor": 0,
  "metadata": {
    "colab": {
      "provenance": [],
      "include_colab_link": true
    },
    "kernelspec": {
      "name": "python3",
      "display_name": "Python 3"
    },
    "language_info": {
      "name": "python"
    }
  },
  "cells": [
    {
      "cell_type": "markdown",
      "metadata": {
        "id": "view-in-github",
        "colab_type": "text"
      },
      "source": [
        "<a href=\"https://colab.research.google.com/github/Yash-Lalwani/DataScience-Cohort/blob/main/Control_Transfer_Statements_Functions.ipynb\" target=\"_parent\"><img src=\"https://colab.research.google.com/assets/colab-badge.svg\" alt=\"Open In Colab\"/></a>"
      ]
    },
    {
      "cell_type": "markdown",
      "source": [
        "break"
      ],
      "metadata": {
        "id": "hzTQ3yFEt-Sl"
      }
    },
    {
      "cell_type": "code",
      "execution_count": null,
      "metadata": {
        "colab": {
          "base_uri": "https://localhost:8080/"
        },
        "id": "mAgMFcxGtskN",
        "outputId": "5e6eb203-6f78-432b-aca9-b5cb14f3f5d8"
      },
      "outputs": [
        {
          "output_type": "stream",
          "name": "stdout",
          "text": [
            "0\n",
            "1\n",
            "2\n"
          ]
        }
      ],
      "source": [
        "for i in range(5):\n",
        "  print(i)\n",
        "  if i == 2:\n",
        "    break"
      ]
    },
    {
      "cell_type": "code",
      "source": [
        "count = 0\n",
        "while True:\n",
        "  print(\"Inside the while loop\")\n",
        "  count += 1\n",
        "  if count == 5:\n",
        "    break"
      ],
      "metadata": {
        "colab": {
          "base_uri": "https://localhost:8080/"
        },
        "id": "MzIe5yMcum-P",
        "outputId": "d55f8c91-b6d5-4c4c-8baa-a62e0a24383d"
      },
      "execution_count": null,
      "outputs": [
        {
          "output_type": "stream",
          "name": "stdout",
          "text": [
            "Inside the while loop\n",
            "Inside the while loop\n",
            "Inside the while loop\n",
            "Inside the while loop\n",
            "Inside the while loop\n"
          ]
        }
      ]
    },
    {
      "cell_type": "markdown",
      "source": [
        "continue"
      ],
      "metadata": {
        "id": "CxikeJ5NwsXk"
      }
    },
    {
      "cell_type": "code",
      "source": [
        "numbers = [1, 2, 3, 4, 5, 6, 7, 8, 9, 10]\n",
        "for num in numbers:\n",
        "  ## skip printing the even numbers\n",
        "  if num % 2 == 0:\n",
        "    continue\n",
        "  print(num)"
      ],
      "metadata": {
        "colab": {
          "base_uri": "https://localhost:8080/"
        },
        "id": "L7o2IqWMwp97",
        "outputId": "a7651d50-bbd8-4b47-9c57-d3c08640cae6"
      },
      "execution_count": null,
      "outputs": [
        {
          "output_type": "stream",
          "name": "stdout",
          "text": [
            "1\n",
            "3\n",
            "5\n",
            "7\n",
            "9\n"
          ]
        }
      ]
    },
    {
      "cell_type": "code",
      "source": [
        "i = 1\n",
        "while i < 4:\n",
        "  j = 0\n",
        "  while j < 5:\n",
        "    j = j + 1\n",
        "    if j == 3:\n",
        "      continue\n",
        "    print(j, end = \" \")\n",
        "  i = i + 1"
      ],
      "metadata": {
        "colab": {
          "base_uri": "https://localhost:8080/"
        },
        "id": "CNGUNMfhxUZX",
        "outputId": "e80dc8bb-25b7-41c1-894a-866d5063e181"
      },
      "execution_count": null,
      "outputs": [
        {
          "output_type": "stream",
          "name": "stdout",
          "text": [
            "1 2 4 5 1 2 4 5 1 2 4 5 "
          ]
        }
      ]
    },
    {
      "cell_type": "markdown",
      "source": [
        "pass"
      ],
      "metadata": {
        "id": "2QvoFtL10gvt"
      }
    },
    {
      "cell_type": "code",
      "source": [
        "count = 0\n",
        "while count < 5:\n",
        "  pass ## placeholder for writing the future code\n",
        "  print(count)\n",
        "  count = count + 1"
      ],
      "metadata": {
        "colab": {
          "base_uri": "https://localhost:8080/"
        },
        "id": "xI5gpNPIyi3z",
        "outputId": "228679f8-1db2-4e22-966d-674f61fb929b"
      },
      "execution_count": null,
      "outputs": [
        {
          "output_type": "stream",
          "name": "stdout",
          "text": [
            "0\n",
            "1\n",
            "2\n",
            "3\n",
            "4\n"
          ]
        }
      ]
    },
    {
      "cell_type": "markdown",
      "source": [
        "Functions"
      ],
      "metadata": {
        "id": "rf89Z-5f4r2k"
      }
    },
    {
      "cell_type": "code",
      "source": [
        "## function definition\n",
        "def greet(name):\n",
        "  print(f\"Hello, {name}\")\n",
        "\n",
        "## function calling\n",
        "greet(\"Susheet\")"
      ],
      "metadata": {
        "colab": {
          "base_uri": "https://localhost:8080/"
        },
        "id": "XJIIGGlu1IF8",
        "outputId": "388c16e2-c98b-41d9-a994-0e183425923c"
      },
      "execution_count": null,
      "outputs": [
        {
          "output_type": "stream",
          "name": "stdout",
          "text": [
            "Hello, Susheet\n"
          ]
        }
      ]
    },
    {
      "cell_type": "code",
      "source": [
        "def myfunction(*learners):\n",
        "  print(\"One of the learner in full stack data science course is \"+learners[5])\n",
        "\n",
        "## learners name\n",
        "myfunction(\"Raman\", \"Sanjeev\", \"Susheet\", \"Aritra\", \"Soumallya\", \"Himanshu\")"
      ],
      "metadata": {
        "colab": {
          "base_uri": "https://localhost:8080/"
        },
        "id": "PWUw-fZg5EN2",
        "outputId": "19fd5cb4-f83c-45ad-87f3-bef4385b2988"
      },
      "execution_count": null,
      "outputs": [
        {
          "output_type": "stream",
          "name": "stdout",
          "text": [
            "One of the learner in full stack data science course is Himanshu\n"
          ]
        }
      ]
    },
    {
      "cell_type": "code",
      "source": [
        "def my_function(country=\"India\"):\n",
        "  print(\"I am from \"+ country)\n",
        "\n",
        "my_function(\"Sweden\")\n",
        "my_function() ## default country = \"India\"\n",
        "my_function(\"Brazil\")\n",
        "my_function(\"Norway\")"
      ],
      "metadata": {
        "colab": {
          "base_uri": "https://localhost:8080/"
        },
        "id": "iJbZ4TmZ6hnk",
        "outputId": "9df52784-bd89-41f0-86b3-108f7de54668"
      },
      "execution_count": null,
      "outputs": [
        {
          "output_type": "stream",
          "name": "stdout",
          "text": [
            "I am from Sweden\n",
            "I am from India\n",
            "I am from Brazil\n",
            "I am from Norway\n"
          ]
        }
      ]
    },
    {
      "cell_type": "code",
      "source": [
        "def function(a, b, c=10):\n",
        "  return a + b - c\n",
        "\n",
        "result = function(10, 12)\n",
        "print(result)"
      ],
      "metadata": {
        "colab": {
          "base_uri": "https://localhost:8080/"
        },
        "id": "BGrbsTYm7ZO7",
        "outputId": "3aa52efd-8d93-4f39-881f-b4d796375f79"
      },
      "execution_count": null,
      "outputs": [
        {
          "output_type": "stream",
          "name": "stdout",
          "text": [
            "12\n"
          ]
        }
      ]
    },
    {
      "cell_type": "code",
      "source": [
        "def calculate_result(x , y, w = 1, z = 5):\n",
        "  return x + y + w + z\n",
        "\n",
        "result = calculate_result(1, 2, z = 4)\n",
        "print(result)"
      ],
      "metadata": {
        "colab": {
          "base_uri": "https://localhost:8080/"
        },
        "id": "9gglob0t8GTI",
        "outputId": "7a7680e1-9b2f-4ee3-e43d-05a28317b86c"
      },
      "execution_count": null,
      "outputs": [
        {
          "output_type": "stream",
          "name": "stdout",
          "text": [
            "8\n"
          ]
        }
      ]
    },
    {
      "cell_type": "code",
      "source": [
        "def my_functions(lst):\n",
        "  for num in lst:\n",
        "    print(num)\n",
        "\n",
        "\n",
        "lst = [2, 3, 4, 5, 6, 1, 8]\n",
        "my_functions(lst)"
      ],
      "metadata": {
        "colab": {
          "base_uri": "https://localhost:8080/"
        },
        "id": "Z2fkiF1_8enE",
        "outputId": "a1751db7-f339-4158-d1b0-b6d19883286d"
      },
      "execution_count": null,
      "outputs": [
        {
          "output_type": "stream",
          "name": "stdout",
          "text": [
            "2\n",
            "3\n",
            "4\n",
            "5\n",
            "6\n",
            "1\n",
            "8\n"
          ]
        }
      ]
    },
    {
      "cell_type": "markdown",
      "source": [
        "Create a function \"calculate\" in which it is having add functionality, subtraction functionality, multiplication and division functionality of two numbers."
      ],
      "metadata": {
        "id": "tTPk-IjC-EJt"
      }
    },
    {
      "cell_type": "code",
      "source": [
        "def calculate(val1, val2, operation = 'add'):\n",
        "  if operation == 'add':\n",
        "    return val1 + val2\n",
        "  elif operation == 'subtract':\n",
        "    return val1 - val2\n",
        "  elif operation == 'multiply':\n",
        "    return val1 * val2\n",
        "  elif operation == 'divide':\n",
        "    return val1 / val2\n",
        "\n",
        "result = calculate(10, 20, \"multiply\")\n",
        "result\n",
        "\n",
        "'''\n",
        "def division(a, b):\n",
        "        if b != 0:\n",
        "            return a / b\n",
        "        else:\n",
        "            return \"Division by zero is not allowed\"\n",
        "'''"
      ],
      "metadata": {
        "colab": {
          "base_uri": "https://localhost:8080/"
        },
        "id": "n_J_zmhl-qIl",
        "outputId": "1ec3f63a-0741-4382-8e6b-ae06b40b1d0c"
      },
      "execution_count": null,
      "outputs": [
        {
          "output_type": "execute_result",
          "data": {
            "text/plain": [
              "200"
            ]
          },
          "metadata": {},
          "execution_count": 22
        }
      ]
    },
    {
      "cell_type": "markdown",
      "source": [
        "print() and return"
      ],
      "metadata": {
        "id": "CGay8xxK9inA"
      }
    },
    {
      "cell_type": "code",
      "source": [
        "def add_with_print(a, b):\n",
        "  print(\"The sum of two numbers is \", a + b)\n",
        "\n",
        "\n",
        "def add_with_return(a, b):\n",
        "  return a + b\n",
        "\n",
        "add_with_print(2, 3)\n",
        "result = add_with_return(2, 3)\n",
        "print(\"The sum of two numbers is \", result)"
      ],
      "metadata": {
        "colab": {
          "base_uri": "https://localhost:8080/"
        },
        "id": "oTIuYqoJ9Ous",
        "outputId": "33e2ca70-f1fd-4a41-ac48-eda52f661fc4"
      },
      "execution_count": null,
      "outputs": [
        {
          "output_type": "stream",
          "name": "stdout",
          "text": [
            "The sum of two numbers is  5\n",
            "The sum of two numbers is  5\n"
          ]
        }
      ]
    },
    {
      "cell_type": "code",
      "source": [
        "## function definition\n",
        "def is_armstrong(num):\n",
        "  str_num = str(num)\n",
        "  num_digits = len(str_num)\n",
        "\n",
        "  sum_of_powers = sum(int(digit)**num_digits for digit in str_num)\n",
        "  return sum_of_powers == num\n",
        "\n",
        "## function calling\n",
        "result = is_armstrong(150)\n",
        "print(result)"
      ],
      "metadata": {
        "colab": {
          "base_uri": "https://localhost:8080/"
        },
        "id": "BSPfDKPqBEle",
        "outputId": "fc3945a8-1cc0-4962-f42a-2b4daf846b42"
      },
      "execution_count": null,
      "outputs": [
        {
          "output_type": "stream",
          "name": "stdout",
          "text": [
            "False\n"
          ]
        }
      ]
    },
    {
      "cell_type": "code",
      "source": [
        "## function definition\n",
        "def sum_and_product(num1, num2):\n",
        "  sum_result = num1 + num2\n",
        "  product_result = num1 * num2\n",
        "  return sum_result, product_result\n",
        "\n",
        "num1 = 6\n",
        "num2 = 10\n",
        "sum_result, product_result = sum_and_product(num1, num2)\n",
        "print(sum_result)\n",
        "print(product_result)"
      ],
      "metadata": {
        "colab": {
          "base_uri": "https://localhost:8080/"
        },
        "id": "ll10xKgPD02Z",
        "outputId": "528f25b1-79c1-418d-91f2-0af031f33974"
      },
      "execution_count": null,
      "outputs": [
        {
          "output_type": "stream",
          "name": "stdout",
          "text": [
            "16\n",
            "60\n"
          ]
        }
      ]
    },
    {
      "cell_type": "markdown",
      "source": [
        "Nested Functions"
      ],
      "metadata": {
        "id": "m_6bhL1KFtAz"
      }
    },
    {
      "cell_type": "code",
      "source": [
        "def calculator(x, y):\n",
        "  def add(a, b):\n",
        "    return a + b\n",
        "\n",
        "  def multiply(a, b):\n",
        "    return a * b\n",
        "\n",
        "  def calc(op, a, b):\n",
        "    if op == 'add':\n",
        "      return add(a, b)\n",
        "\n",
        "    else:\n",
        "      return multiply(a, b)\n",
        "\n",
        "  return calc('add', x, y), calc('multiply', x, y)\n",
        "\n",
        "result = calculator(2, 3)\n",
        "print(result)"
      ],
      "metadata": {
        "colab": {
          "base_uri": "https://localhost:8080/"
        },
        "id": "gtweY6__FeTl",
        "outputId": "f2eca5cb-41ea-4f2b-ed85-33f218fab85b"
      },
      "execution_count": null,
      "outputs": [
        {
          "output_type": "stream",
          "name": "stdout",
          "text": [
            "(5, 6)\n"
          ]
        }
      ]
    },
    {
      "cell_type": "markdown",
      "source": [
        "Task: **kwargs and *args"
      ],
      "metadata": {
        "id": "0taYCRSAHFzr"
      }
    },
    {
      "cell_type": "code",
      "source": [],
      "metadata": {
        "id": "OuLfK4AsGYSo"
      },
      "execution_count": null,
      "outputs": []
    }
  ]
}