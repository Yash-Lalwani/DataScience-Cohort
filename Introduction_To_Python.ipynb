{
  "nbformat": 4,
  "nbformat_minor": 0,
  "metadata": {
    "colab": {
      "provenance": [],
      "authorship_tag": "ABX9TyO+QyJso06yOi6HRilqFVlC",
      "include_colab_link": true
    },
    "kernelspec": {
      "name": "python3",
      "display_name": "Python 3"
    },
    "language_info": {
      "name": "python"
    }
  },
  "cells": [
    {
      "cell_type": "markdown",
      "metadata": {
        "id": "view-in-github",
        "colab_type": "text"
      },
      "source": [
        "<a href=\"https://colab.research.google.com/github/Yash-Lalwani/DataScience-Cohort/blob/main/Introduction_To_Python.ipynb\" target=\"_parent\"><img src=\"https://colab.research.google.com/assets/colab-badge.svg\" alt=\"Open In Colab\"/></a>"
      ]
    },
    {
      "cell_type": "markdown",
      "source": [
        "# print() function"
      ],
      "metadata": {
        "id": "ifG18ajI1cgh"
      }
    },
    {
      "cell_type": "code",
      "execution_count": null,
      "metadata": {
        "colab": {
          "base_uri": "https://localhost:8080/"
        },
        "id": "Y9I64YAwx1-3",
        "outputId": "6510d2b5-e55a-4a59-929a-389dfbef9d76"
      },
      "outputs": [
        {
          "output_type": "stream",
          "name": "stdout",
          "text": [
            "yash\n"
          ]
        }
      ],
      "source": [
        "print(\"yash\")\n"
      ]
    },
    {
      "cell_type": "code",
      "source": [
        "print(\"yash\")\n",
        "print(\"lalwani\")"
      ],
      "metadata": {
        "colab": {
          "base_uri": "https://localhost:8080/"
        },
        "id": "ZyFXiIIR1Yls",
        "outputId": "d78e59c3-2cc4-48d7-b5e2-10d6f5936010"
      },
      "execution_count": null,
      "outputs": [
        {
          "output_type": "stream",
          "name": "stdout",
          "text": [
            "yash\n",
            "lalwani\n"
          ]
        }
      ]
    },
    {
      "cell_type": "markdown",
      "source": [
        "to print on same line, use end parameter"
      ],
      "metadata": {
        "id": "87WJIai3152o"
      }
    },
    {
      "cell_type": "code",
      "source": [
        "print(\"yash\", end = ' ')\n",
        "print(\"lalwani\")"
      ],
      "metadata": {
        "colab": {
          "base_uri": "https://localhost:8080/"
        },
        "id": "i6sOCM5r1wCc",
        "outputId": "f10a9dc3-035e-40e0-ccdd-d3335ef7e242"
      },
      "execution_count": null,
      "outputs": [
        {
          "output_type": "stream",
          "name": "stdout",
          "text": [
            "yashlalwani\n"
          ]
        }
      ]
    },
    {
      "cell_type": "code",
      "source": [
        "print(\"python\", end = '-')\n",
        "print(\"programming\")"
      ],
      "metadata": {
        "colab": {
          "base_uri": "https://localhost:8080/"
        },
        "id": "CPylm4At1-XS",
        "outputId": "e75387ae-35fb-4143-c263-997694c9603d"
      },
      "execution_count": null,
      "outputs": [
        {
          "output_type": "stream",
          "name": "stdout",
          "text": [
            "python-programming\n"
          ]
        }
      ]
    },
    {
      "cell_type": "code",
      "source": [
        "print(\"apple\", \"orange\", \"banana\")"
      ],
      "metadata": {
        "colab": {
          "base_uri": "https://localhost:8080/"
        },
        "id": "LS480dyh2RXZ",
        "outputId": "8815b5c3-2c04-4a95-f1e9-ce68414653d7"
      },
      "execution_count": null,
      "outputs": [
        {
          "output_type": "stream",
          "name": "stdout",
          "text": [
            "apple orange banana\n"
          ]
        }
      ]
    },
    {
      "cell_type": "markdown",
      "source": [
        "sep parameter, used to seperate on same line"
      ],
      "metadata": {
        "id": "XOI80I4B2Wcg"
      }
    },
    {
      "cell_type": "code",
      "source": [
        "print(\"apple\", \"orange\", \"banana\", sep = \", \")"
      ],
      "metadata": {
        "colab": {
          "base_uri": "https://localhost:8080/"
        },
        "id": "R765FTAt2ZM-",
        "outputId": "1aa08eb6-d6ec-470a-c52e-f30d839c8c16"
      },
      "execution_count": null,
      "outputs": [
        {
          "output_type": "stream",
          "name": "stdout",
          "text": [
            "apple, orange, banana\n"
          ]
        }
      ]
    },
    {
      "cell_type": "markdown",
      "source": [
        "# input() Function"
      ],
      "metadata": {
        "id": "-IKjjPLb3B7G"
      }
    },
    {
      "cell_type": "code",
      "source": [
        "user_input = input(\"Enter your name: \")\n",
        "print(\"hey, my name is \" + user_input )"
      ],
      "metadata": {
        "colab": {
          "base_uri": "https://localhost:8080/"
        },
        "id": "ckgweGek3BwF",
        "outputId": "77d7fbc0-3296-4d88-ee75-7bff9bdd9bbf"
      },
      "execution_count": null,
      "outputs": [
        {
          "output_type": "stream",
          "name": "stdout",
          "text": [
            "Enter your name: yash\n",
            "hey, my name is yash\n"
          ]
        }
      ]
    },
    {
      "cell_type": "markdown",
      "source": [
        "it will take the latest value, and the last will be removed by garbage collector.\n",
        "garbage collector will se which value is not used, and it will delete."
      ],
      "metadata": {
        "id": "xK0TN2x43klr"
      }
    },
    {
      "cell_type": "code",
      "source": [
        "user_input = \"tejas lalwani\"\n",
        "print(\"hey, my name is \" + user_input )"
      ],
      "metadata": {
        "colab": {
          "base_uri": "https://localhost:8080/"
        },
        "id": "zwDJ5Vtk3lNQ",
        "outputId": "95fc7c9b-4030-4438-cd22-fbc78effae01"
      },
      "execution_count": null,
      "outputs": [
        {
          "output_type": "stream",
          "name": "stdout",
          "text": [
            "hey, my name is tejas lalwani\n"
          ]
        }
      ]
    },
    {
      "cell_type": "code",
      "source": [
        "num = 10\n",
        "print(num)"
      ],
      "metadata": {
        "colab": {
          "base_uri": "https://localhost:8080/"
        },
        "id": "q-q0uqvp4ntm",
        "outputId": "2de9cbc9-1c1e-4448-9ea0-a81199cc4dcb"
      },
      "execution_count": null,
      "outputs": [
        {
          "output_type": "stream",
          "name": "stdout",
          "text": [
            "10\n"
          ]
        }
      ]
    },
    {
      "cell_type": "code",
      "source": [
        "num = 15\n",
        "print(num)"
      ],
      "metadata": {
        "colab": {
          "base_uri": "https://localhost:8080/"
        },
        "id": "iI2XHE8L4szK",
        "outputId": "fff50417-65dc-4d0f-8c1e-0a39139a3e75"
      },
      "execution_count": null,
      "outputs": [
        {
          "output_type": "stream",
          "name": "stdout",
          "text": [
            "15\n"
          ]
        }
      ]
    },
    {
      "cell_type": "markdown",
      "source": [
        "## Comments"
      ],
      "metadata": {
        "id": "OjHkYVIZ5NKY"
      }
    },
    {
      "cell_type": "code",
      "source": [
        "# this is a single line comment\n",
        "print(\"hello\")"
      ],
      "metadata": {
        "colab": {
          "base_uri": "https://localhost:8080/"
        },
        "id": "z1EW-9D35SrS",
        "outputId": "6c839949-66fe-4bda-8b60-8183f1f3edac"
      },
      "execution_count": null,
      "outputs": [
        {
          "output_type": "stream",
          "name": "stdout",
          "text": [
            "hello\n"
          ]
        }
      ]
    },
    {
      "cell_type": "code",
      "source": [
        "'''\n",
        "this is a multiline comment, this is used mainly like javadoc comments.\n",
        "'''\n",
        "print(\"hello, World\")"
      ],
      "metadata": {
        "colab": {
          "base_uri": "https://localhost:8080/"
        },
        "id": "qqysxnPw5oH7",
        "outputId": "e8a8b1fe-2026-4943-b6aa-3e5ba92fe6d3"
      },
      "execution_count": null,
      "outputs": [
        {
          "output_type": "stream",
          "name": "stdout",
          "text": [
            "hello, World\n"
          ]
        }
      ]
    },
    {
      "cell_type": "markdown",
      "source": [
        "# Indentaion"
      ],
      "metadata": {
        "id": "3q8z2VVo5-nM"
      }
    },
    {
      "cell_type": "markdown",
      "source": [
        "no need to put that brackets like in java"
      ],
      "metadata": {
        "id": "9NueCg5y6STI"
      }
    },
    {
      "cell_type": "code",
      "source": [
        "x = 5\n",
        "if x > 3:\n",
        "  print(\"x is greater than 3\")"
      ],
      "metadata": {
        "colab": {
          "base_uri": "https://localhost:8080/"
        },
        "id": "l-R3_7jZ6DmI",
        "outputId": "d6514091-95e5-4bfd-9750-b2d51f3bd079"
      },
      "execution_count": null,
      "outputs": [
        {
          "output_type": "stream",
          "name": "stdout",
          "text": [
            "x is greater than 3\n"
          ]
        }
      ]
    },
    {
      "cell_type": "markdown",
      "source": [
        "Legal Variable Name:\n",
        "variable can contain - letter and numbers and underscore\n",
        "but it cannot start with - letter or underscore."
      ],
      "metadata": {
        "id": "2JyeRgZT8lGQ"
      }
    },
    {
      "cell_type": "code",
      "source": [
        "@name = yash"
      ],
      "metadata": {
        "colab": {
          "base_uri": "https://localhost:8080/",
          "height": 108
        },
        "collapsed": true,
        "id": "F6BrIhLe8k2B",
        "outputId": "a790e27b-a684-48bf-aa17-3d2b43d0b792"
      },
      "execution_count": null,
      "outputs": [
        {
          "output_type": "error",
          "ename": "SyntaxError",
          "evalue": "invalid syntax. Maybe you meant '==' or ':=' instead of '='? (<ipython-input-19-15542e3ad08c>, line 1)",
          "traceback": [
            "\u001b[0;36m  File \u001b[0;32m\"<ipython-input-19-15542e3ad08c>\"\u001b[0;36m, line \u001b[0;32m1\u001b[0m\n\u001b[0;31m    @name = yash\u001b[0m\n\u001b[0m     ^\u001b[0m\n\u001b[0;31mSyntaxError\u001b[0m\u001b[0;31m:\u001b[0m invalid syntax. Maybe you meant '==' or ':=' instead of '='?\n"
          ]
        }
      ]
    },
    {
      "cell_type": "markdown",
      "source": [
        "Varibles are case sensitive"
      ],
      "metadata": {
        "id": "xTNnYHrZ9Llq"
      }
    },
    {
      "cell_type": "code",
      "source": [
        "My_Name = yash\n",
        "print(my_name)"
      ],
      "metadata": {
        "id": "KjPi1To49Pf1"
      },
      "execution_count": null,
      "outputs": []
    },
    {
      "cell_type": "markdown",
      "source": [
        "Keywords cannot be use as varibale, for example 'if' cannot be used"
      ],
      "metadata": {
        "id": "Q00aNJJ19Zg_"
      }
    },
    {
      "cell_type": "markdown",
      "source": [
        "multiple values can be initialized in same line"
      ],
      "metadata": {
        "id": "gSGxub399flH"
      }
    },
    {
      "cell_type": "code",
      "source": [
        "x, y, z = 1, 2, 3\n",
        "print(x, y, z)"
      ],
      "metadata": {
        "colab": {
          "base_uri": "https://localhost:8080/"
        },
        "id": "-UtsKhH69lBp",
        "outputId": "3b1e21f0-4fea-4bb5-9307-fde1a11cea19"
      },
      "execution_count": null,
      "outputs": [
        {
          "output_type": "stream",
          "name": "stdout",
          "text": [
            "1 2 3\n"
          ]
        }
      ]
    },
    {
      "cell_type": "code",
      "source": [
        "x=y=z=1\n",
        "print(x, y, z)"
      ],
      "metadata": {
        "colab": {
          "base_uri": "https://localhost:8080/"
        },
        "id": "tppktvXH9p8o",
        "outputId": "d8d17757-c08b-4f36-896e-471e6654595a"
      },
      "execution_count": null,
      "outputs": [
        {
          "output_type": "stream",
          "name": "stdout",
          "text": [
            "1 1 1\n"
          ]
        }
      ]
    },
    {
      "cell_type": "markdown",
      "source": [
        "# Data Type in python"
      ],
      "metadata": {
        "id": "qjYb5Roj-ASJ"
      }
    },
    {
      "cell_type": "markdown",
      "source": [
        "Numbers"
      ],
      "metadata": {
        "id": "xcEbEc1v-HER"
      }
    },
    {
      "cell_type": "code",
      "source": [
        "x = 10 ## int\n",
        "y = 3.14 ## float\n",
        "z = 2 + 3j ## complex, j is predefined keyword, i is not"
      ],
      "metadata": {
        "id": "5Ze2mbOo-D05"
      },
      "execution_count": null,
      "outputs": []
    },
    {
      "cell_type": "code",
      "source": [
        "type(x)"
      ],
      "metadata": {
        "colab": {
          "base_uri": "https://localhost:8080/"
        },
        "id": "6msIJj7G-aHZ",
        "outputId": "5ad5b1c9-4205-4c0e-a87a-a95da5b8aee1"
      },
      "execution_count": null,
      "outputs": [
        {
          "output_type": "execute_result",
          "data": {
            "text/plain": [
              "int"
            ]
          },
          "metadata": {},
          "execution_count": 26
        }
      ]
    },
    {
      "cell_type": "code",
      "source": [
        "type(y)"
      ],
      "metadata": {
        "colab": {
          "base_uri": "https://localhost:8080/"
        },
        "id": "rYRb1WsR-fzB",
        "outputId": "0cf0f988-6b84-46dc-e28e-c18d4896c577"
      },
      "execution_count": null,
      "outputs": [
        {
          "output_type": "execute_result",
          "data": {
            "text/plain": [
              "float"
            ]
          },
          "metadata": {},
          "execution_count": 28
        }
      ]
    },
    {
      "cell_type": "code",
      "source": [
        "type(z)"
      ],
      "metadata": {
        "colab": {
          "base_uri": "https://localhost:8080/"
        },
        "id": "WvinY2Hb-il0",
        "outputId": "85b82b1a-4dde-4f73-bce3-09096e55e732"
      },
      "execution_count": null,
      "outputs": [
        {
          "output_type": "execute_result",
          "data": {
            "text/plain": [
              "complex"
            ]
          },
          "metadata": {},
          "execution_count": 29
        }
      ]
    },
    {
      "cell_type": "code",
      "source": [
        "z.real"
      ],
      "metadata": {
        "colab": {
          "base_uri": "https://localhost:8080/"
        },
        "id": "yUcLvFKn-w5K",
        "outputId": "ec78a6ad-07eb-49bb-94e3-414caabfb100"
      },
      "execution_count": null,
      "outputs": [
        {
          "output_type": "execute_result",
          "data": {
            "text/plain": [
              "2.0"
            ]
          },
          "metadata": {},
          "execution_count": 31
        }
      ]
    },
    {
      "cell_type": "code",
      "source": [
        "z.imag"
      ],
      "metadata": {
        "colab": {
          "base_uri": "https://localhost:8080/"
        },
        "id": "jaNMNRWt-zZQ",
        "outputId": "fda811a8-caad-422e-b615-d4b48c61f294"
      },
      "execution_count": null,
      "outputs": [
        {
          "output_type": "execute_result",
          "data": {
            "text/plain": [
              "3.0"
            ]
          },
          "metadata": {},
          "execution_count": 32
        }
      ]
    },
    {
      "cell_type": "markdown",
      "source": [
        "# String"
      ],
      "metadata": {
        "id": "KuYbqznd-6jT"
      }
    },
    {
      "cell_type": "code",
      "source": [
        "name = \"yash\"\n",
        "type(name)"
      ],
      "metadata": {
        "colab": {
          "base_uri": "https://localhost:8080/"
        },
        "id": "HRyTF-wq-5ht",
        "outputId": "412a5566-fbf4-4587-c217-c0769087d977"
      },
      "execution_count": null,
      "outputs": [
        {
          "output_type": "execute_result",
          "data": {
            "text/plain": [
              "str"
            ]
          },
          "metadata": {},
          "execution_count": 33
        }
      ]
    }
  ]
}