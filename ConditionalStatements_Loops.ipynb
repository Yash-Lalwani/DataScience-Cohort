{
  "nbformat": 4,
  "nbformat_minor": 0,
  "metadata": {
    "colab": {
      "provenance": [],
      "include_colab_link": true
    },
    "kernelspec": {
      "name": "python3",
      "display_name": "Python 3"
    },
    "language_info": {
      "name": "python"
    }
  },
  "cells": [
    {
      "cell_type": "markdown",
      "metadata": {
        "id": "view-in-github",
        "colab_type": "text"
      },
      "source": [
        "<a href=\"https://colab.research.google.com/github/Yash-Lalwani/DataScience-Cohort/blob/main/ConditionalStatements_Loops.ipynb\" target=\"_parent\"><img src=\"https://colab.research.google.com/assets/colab-badge.svg\" alt=\"Open In Colab\"/></a>"
      ]
    },
    {
      "cell_type": "markdown",
      "source": [
        "Conditional Statements"
      ],
      "metadata": {
        "id": "a_2g284o0JZf"
      }
    },
    {
      "cell_type": "code",
      "execution_count": null,
      "metadata": {
        "colab": {
          "base_uri": "https://localhost:8080/"
        },
        "id": "4couBbEJxsO9",
        "outputId": "b49d214b-7bc4-43e0-9366-fadf8b12055f"
      },
      "outputs": [
        {
          "output_type": "stream",
          "name": "stdout",
          "text": [
            "x is positive\n"
          ]
        }
      ],
      "source": [
        "x = 100\n",
        "\n",
        "if x > 0:\n",
        "  print(\"x is positive\")\n",
        "else:\n",
        "  print(\"x is not positive\")"
      ]
    },
    {
      "cell_type": "code",
      "source": [
        "x = 100\n",
        "\n",
        "if x > 0:\n",
        "  print(\"x is positive\")\n",
        "\n",
        "print(\"This is outside the if block\")"
      ],
      "metadata": {
        "colab": {
          "base_uri": "https://localhost:8080/"
        },
        "id": "KsS8duen0fba",
        "outputId": "311b533a-dbd1-48a6-970b-23d7b25e6c16"
      },
      "execution_count": null,
      "outputs": [
        {
          "output_type": "stream",
          "name": "stdout",
          "text": [
            "x is positive\n",
            "This is outside the if block\n"
          ]
        }
      ]
    },
    {
      "cell_type": "code",
      "source": [
        "def multiple_of_2(num):\n",
        "  if(num%2 == 0):\n",
        "     print(\"Multiple of two\")\n",
        "  else:\n",
        "    print(\"Not a multiple of 2\")\n",
        "\n",
        "num = int(input(\"Enter a number: \"))\n",
        "multiple_of_2(num)"
      ],
      "metadata": {
        "colab": {
          "base_uri": "https://localhost:8080/"
        },
        "id": "jD1_KoIz3RHe",
        "outputId": "db01cf56-5427-43b1-b4f8-30d719a8e24f"
      },
      "execution_count": null,
      "outputs": [
        {
          "output_type": "stream",
          "name": "stdout",
          "text": [
            "Enter a number: 12\n",
            "Multiple of two\n"
          ]
        }
      ]
    },
    {
      "cell_type": "markdown",
      "source": [
        "Given a number, verify that the number is a multiple of 2 or not?"
      ],
      "metadata": {
        "id": "6h96z1_c2GXG"
      }
    },
    {
      "cell_type": "code",
      "source": [
        "user_input = int(input(\"Enter a number: \"))\n",
        "\n",
        "## condition to check whether a number is a multiple of 2 or not\n",
        "if user_input % 2 == 0:\n",
        "  print(\"The number is a multiple of 2\")\n",
        "else:\n",
        "  print(\"The number is not a multiple of 2\")"
      ],
      "metadata": {
        "colab": {
          "base_uri": "https://localhost:8080/"
        },
        "id": "4UG8nI_G1Z_p",
        "outputId": "4165c886-59bf-454e-d14a-3101a691405e"
      },
      "execution_count": null,
      "outputs": [
        {
          "output_type": "stream",
          "name": "stdout",
          "text": [
            "Enter a number: 15\n",
            "The number is not a multiple of 2\n"
          ]
        }
      ]
    },
    {
      "cell_type": "code",
      "source": [
        "my_dict = {'a':1, 'b':2, 'c':3}\n",
        "\n",
        "## key to check\n",
        "key_to_check = 'd'\n",
        "\n",
        "if key_to_check in my_dict:\n",
        "  print(\"Key is present in the dictionary\")\n",
        "else:\n",
        "  print(\"Key is not present in the dictionary\")"
      ],
      "metadata": {
        "colab": {
          "base_uri": "https://localhost:8080/"
        },
        "id": "RCf8gUwX2ovA",
        "outputId": "6a4119dc-ef3e-42e7-baae-c9e29fb48229"
      },
      "execution_count": null,
      "outputs": [
        {
          "output_type": "stream",
          "name": "stdout",
          "text": [
            "Key is not present in the dictionary\n"
          ]
        }
      ]
    },
    {
      "cell_type": "code",
      "source": [
        "a = 80\n",
        "b = 80\n",
        "c = 80\n",
        "\n",
        "if a > b and a > c:\n",
        "  print('a is greater than b and c')\n",
        "\n",
        "elif b > a and b > c:\n",
        "  print('b is greater than a and c')\n",
        "\n",
        "elif c > a and c > b:\n",
        "  print('c is greater than a and b')\n",
        "\n",
        "else:\n",
        "  print('None of the above conditions are met')"
      ],
      "metadata": {
        "colab": {
          "base_uri": "https://localhost:8080/"
        },
        "id": "IgcJ2I5X4B2A",
        "outputId": "2b9ff336-d643-4427-9f8f-0783c0388b0f"
      },
      "execution_count": null,
      "outputs": [
        {
          "output_type": "stream",
          "name": "stdout",
          "text": [
            "None of the above conditions are met\n"
          ]
        }
      ]
    },
    {
      "cell_type": "markdown",
      "source": [
        "Nested Conditional Statements"
      ],
      "metadata": {
        "id": "a1c6ikRE6kL-"
      }
    },
    {
      "cell_type": "code",
      "source": [
        "x = -10\n",
        "y = 5\n",
        "\n",
        "## Nested if\n",
        "if x > 0:\n",
        "  print('x is positive')\n",
        "\n",
        "  if y > 0:\n",
        "    print('y is positive')"
      ],
      "metadata": {
        "id": "Omi1if3m5o36"
      },
      "execution_count": null,
      "outputs": []
    },
    {
      "cell_type": "code",
      "source": [
        "x = -10\n",
        "y = 5\n",
        "\n",
        "## the below if conditions are independent to each other\n",
        "if x > 0:\n",
        "  print('x is positive')\n",
        "\n",
        "if y > 0:\n",
        "  print('y is positive')"
      ],
      "metadata": {
        "colab": {
          "base_uri": "https://localhost:8080/"
        },
        "id": "dhXvmVTM66N2",
        "outputId": "62ce45fd-7819-48e1-9685-439f1ce99672"
      },
      "execution_count": null,
      "outputs": [
        {
          "output_type": "stream",
          "name": "stdout",
          "text": [
            "y is positive\n"
          ]
        }
      ]
    },
    {
      "cell_type": "code",
      "source": [
        "age = 15\n",
        "income = 5000\n",
        "\n",
        "if age >= 18:\n",
        "  print(\"You are eligible to vote.\")\n",
        "  if income >= 30000:\n",
        "    print(\"You are eligible to apply for a credit card\")\n",
        "  elif income >= 20000:\n",
        "    print(\"You are eligible to apply for a personal loan\")\n",
        "  else:\n",
        "    print(\"You are eligible to open a savings account\")\n",
        "\n",
        "else:\n",
        "  print(\"You are not eligible to vote.\")"
      ],
      "metadata": {
        "colab": {
          "base_uri": "https://localhost:8080/"
        },
        "id": "Oo4I3Yhz7PjR",
        "outputId": "6ae3c5f4-6196-4b41-f9ed-ed2358f888e4"
      },
      "execution_count": null,
      "outputs": [
        {
          "output_type": "stream",
          "name": "stdout",
          "text": [
            "You are not eligible to vote.\n"
          ]
        }
      ]
    },
    {
      "cell_type": "markdown",
      "source": [
        "Shorthand if statement"
      ],
      "metadata": {
        "id": "h5-HrCyJ9-3d"
      }
    },
    {
      "cell_type": "code",
      "source": [
        "age = 25\n",
        "\n",
        "if age >= 18: print(\"You are eligible for vote\")"
      ],
      "metadata": {
        "colab": {
          "base_uri": "https://localhost:8080/"
        },
        "id": "dn_x5fu68kA9",
        "outputId": "efc5e295-52f8-4807-f4f1-305cb9a803c6"
      },
      "execution_count": null,
      "outputs": [
        {
          "output_type": "stream",
          "name": "stdout",
          "text": [
            "You are eligible for vote\n"
          ]
        }
      ]
    },
    {
      "cell_type": "code",
      "source": [
        "text = \"Hello Python\"\n",
        "contains_word = True if \"Python\" in text else False\n",
        "print(contains_word)"
      ],
      "metadata": {
        "colab": {
          "base_uri": "https://localhost:8080/"
        },
        "id": "1WAJjIAD-Nt5",
        "outputId": "606c51a1-99ec-469a-9b10-7e68b926447b"
      },
      "execution_count": null,
      "outputs": [
        {
          "output_type": "stream",
          "name": "stdout",
          "text": [
            "True\n"
          ]
        }
      ]
    },
    {
      "cell_type": "code",
      "source": [
        "def multiple_of_2(num):\n",
        "  if(num%2 == 0):\n",
        "     return \"Multiple of two\"\n",
        "  else:\n",
        "    return \"Not a multiple of 2\"\n",
        "\n",
        "num = int(input(\"Enter a number: \"))\n",
        "print(multiple_of_2(num))"
      ],
      "metadata": {
        "colab": {
          "base_uri": "https://localhost:8080/"
        },
        "id": "Z4aYUEs7-iHQ",
        "outputId": "24ff5bd7-a78b-4bda-cfc4-c1c5dd8bdec5"
      },
      "execution_count": null,
      "outputs": [
        {
          "output_type": "stream",
          "name": "stdout",
          "text": [
            "Enter a number: 12\n",
            "Multiple of two\n"
          ]
        }
      ]
    },
    {
      "cell_type": "code",
      "source": [
        "score = 65\n",
        "\n",
        "grade = 'A' if score >= 90 else ('B' if score >= 80 else ('C' if score >= 70 else 'D'))\n",
        "print(grade)"
      ],
      "metadata": {
        "colab": {
          "base_uri": "https://localhost:8080/"
        },
        "id": "6a3euL3g-_-3",
        "outputId": "a8d6bedd-c5c9-4219-f76b-a3d2e4463e26"
      },
      "execution_count": null,
      "outputs": [
        {
          "output_type": "stream",
          "name": "stdout",
          "text": [
            "D\n"
          ]
        }
      ]
    },
    {
      "cell_type": "markdown",
      "source": [
        "Write a program to take three side lengths and  prints whether the triangle is equilateral, isosceles, or scalene"
      ],
      "metadata": {
        "id": "powi8jFTBHBu"
      }
    },
    {
      "cell_type": "code",
      "source": [
        "a = int(input())\n",
        "b = int(input())\n",
        "c = int(input())\n",
        "\n",
        "if (a == b == c):\n",
        "  print(\"Equilateral\")\n",
        "elif a == b or b == c or a == c:\n",
        "  print(\"Isosceles\")\n",
        "else:\n",
        "  print(\"Scalene\")"
      ],
      "metadata": {
        "colab": {
          "base_uri": "https://localhost:8080/"
        },
        "id": "aRyxUoYoAG4o",
        "outputId": "68ca3955-6a3a-4d7c-b905-446faff5fb41"
      },
      "execution_count": null,
      "outputs": [
        {
          "output_type": "stream",
          "name": "stdout",
          "text": [
            "2\n",
            "2\n",
            "3\n",
            "Isosceles\n"
          ]
        }
      ]
    },
    {
      "cell_type": "code",
      "source": [
        "a = int(input())\n",
        "b = int(input())\n",
        "c = int(input())\n",
        "\n",
        "ans = \"Equilateral\" if a==b==c else(\"Isosceles\" if a == b or a == c or b == c else \"Scalene\")\n",
        "print(ans)"
      ],
      "metadata": {
        "colab": {
          "base_uri": "https://localhost:8080/"
        },
        "id": "6oRWtDawCIQP",
        "outputId": "b739985f-2af5-4b47-ce7c-6fa855f4832b"
      },
      "execution_count": null,
      "outputs": [
        {
          "output_type": "stream",
          "name": "stdout",
          "text": [
            "2\n",
            "3\n",
            "4\n",
            "Scalene\n"
          ]
        }
      ]
    },
    {
      "cell_type": "markdown",
      "source": [
        "Write a program that prints \"Fizz\" if a number is divisible by 3, \"Buzz\" if divisible by 5, \"FizzBuzz\" if divisible by both, or the number itself otherwise."
      ],
      "metadata": {
        "id": "ZEk9S6QqBgNW"
      }
    },
    {
      "cell_type": "code",
      "source": [
        "a_number = int(input(\"Enter a number: \"))\n",
        "\n",
        "if a_number % 3 == 0 and a_number % 5 == 0:\n",
        "  print(\"FizzBuzz\")\n",
        "elif a_number % 3 == 0:\n",
        "  print(\"Fizz\")\n",
        "elif a_number % 5 == 0:\n",
        "  print(\"Buzz\")\n",
        "else:\n",
        "   print(a_number)"
      ],
      "metadata": {
        "colab": {
          "base_uri": "https://localhost:8080/"
        },
        "id": "TMzPtO8iBglT",
        "outputId": "29d0d9f4-22f0-4b67-97df-18befcd9f4c0"
      },
      "execution_count": null,
      "outputs": [
        {
          "output_type": "stream",
          "name": "stdout",
          "text": [
            "Enter a number: 22\n",
            "22\n"
          ]
        }
      ]
    },
    {
      "cell_type": "code",
      "source": [
        "n = int(input(\"Enter a number: \"))\n",
        "ans = \"Fizzbuzz\" if n % 3 == 0 and n % 5 == 0 else (\"Fizz\" if n % 3 == 0 else (\"Buzz\" if n % 5 == 0 else n))\n",
        "print(ans)"
      ],
      "metadata": {
        "colab": {
          "base_uri": "https://localhost:8080/"
        },
        "id": "WP256Wz7C4hX",
        "outputId": "f678d249-f3b0-4480-caf4-da03c66e52af"
      },
      "execution_count": null,
      "outputs": [
        {
          "output_type": "stream",
          "name": "stdout",
          "text": [
            "Enter a number: 22\n",
            "22\n"
          ]
        }
      ]
    },
    {
      "cell_type": "markdown",
      "source": [
        "Write a program that checks if a given string is a palindrome (reads the same backward)."
      ],
      "metadata": {
        "id": "bUfgbp5EBm3f"
      }
    },
    {
      "cell_type": "code",
      "source": [
        "a = input(\"Enter a string: \")\n",
        "\n",
        "if a == a[::-1]:\n",
        "  print(\"Palindrome\")\n",
        "else:\n",
        "  print(\"Not a palindrome\")"
      ],
      "metadata": {
        "colab": {
          "base_uri": "https://localhost:8080/"
        },
        "id": "phR8I--FBmPW",
        "outputId": "04801e36-e30a-4e31-ba88-d65e58a91804"
      },
      "execution_count": null,
      "outputs": [
        {
          "output_type": "stream",
          "name": "stdout",
          "text": [
            "Enter a string: priya\n",
            "Not a palindrome\n"
          ]
        }
      ]
    },
    {
      "cell_type": "code",
      "source": [
        "x = \"Hello World\"\n",
        "print(x)\n",
        "print(x)\n",
        "print(x)\n",
        "print(x)\n",
        "print(x)\n",
        "print(x)\n",
        "print(x)\n",
        "print(x)\n",
        "print(x)\n",
        "print(x)\n",
        "print(x)\n",
        "print(x)\n",
        "print(x)\n",
        "print(x)\n",
        "print(x)\n",
        "print(x)\n",
        "print(x)\n",
        "print(x)\n",
        "print(x)\n",
        "print(x)"
      ],
      "metadata": {
        "colab": {
          "base_uri": "https://localhost:8080/"
        },
        "id": "HOY63FMvDym3",
        "outputId": "bada1925-d1ce-44a5-cae5-17103a0fb240"
      },
      "execution_count": null,
      "outputs": [
        {
          "output_type": "stream",
          "name": "stdout",
          "text": [
            "Hello World\n",
            "Hello World\n",
            "Hello World\n",
            "Hello World\n",
            "Hello World\n",
            "Hello World\n",
            "Hello World\n",
            "Hello World\n",
            "Hello World\n",
            "Hello World\n",
            "Hello World\n",
            "Hello World\n",
            "Hello World\n",
            "Hello World\n",
            "Hello World\n",
            "Hello World\n",
            "Hello World\n",
            "Hello World\n",
            "Hello World\n",
            "Hello World\n"
          ]
        }
      ]
    },
    {
      "cell_type": "code",
      "source": [
        "fruits = ['apple', 'banana', 'cherry']\n",
        "for fruit in fruits:\n",
        "  print(fruit)"
      ],
      "metadata": {
        "colab": {
          "base_uri": "https://localhost:8080/"
        },
        "id": "g6_2AepdHSBu",
        "outputId": "ba683e44-97f6-4a95-893c-695092abf8fc"
      },
      "execution_count": null,
      "outputs": [
        {
          "output_type": "stream",
          "name": "stdout",
          "text": [
            "apple\n",
            "banana\n",
            "cherry\n"
          ]
        }
      ]
    },
    {
      "cell_type": "code",
      "source": [
        "number = [1, 2, 3, 4, 5, 6, 7, 8, 9, 10]\n",
        "\n",
        "for num in number:\n",
        "  if num % 2 == 0:\n",
        "    print(f\"{num} is even\")\n",
        "  else:\n",
        "    print(f\"{num} is odd\")"
      ],
      "metadata": {
        "colab": {
          "base_uri": "https://localhost:8080/"
        },
        "id": "GV6g47PrIYAZ",
        "outputId": "664351bf-c0d1-4e6e-c46e-9d0ff5518971"
      },
      "execution_count": null,
      "outputs": [
        {
          "output_type": "stream",
          "name": "stdout",
          "text": [
            "1 is odd\n",
            "2 is even\n",
            "3 is odd\n",
            "4 is even\n",
            "5 is odd\n",
            "6 is even\n",
            "7 is odd\n",
            "8 is even\n",
            "9 is odd\n",
            "10 is even\n"
          ]
        }
      ]
    },
    {
      "cell_type": "code",
      "source": [
        "numbers = [10, 50, 40, 30, 5, 15]\n",
        "\n",
        "## maximum element\n",
        "max_element = numbers[0]\n",
        "\n",
        "for num in numbers:\n",
        "  if num > max_element:\n",
        "    max_element = num\n",
        "\n",
        "print(\"Maximum element in a given list is\", max_element)"
      ],
      "metadata": {
        "colab": {
          "base_uri": "https://localhost:8080/"
        },
        "id": "yC3feBjxI7b4",
        "outputId": "18c87c09-9cfb-4caf-edbd-c535eb7f446f"
      },
      "execution_count": null,
      "outputs": [
        {
          "output_type": "stream",
          "name": "stdout",
          "text": [
            "Maximum element in a given list is 50\n"
          ]
        }
      ]
    },
    {
      "cell_type": "code",
      "source": [
        "for i in range(6):\n",
        "  print(i)\n",
        "\n",
        "else:\n",
        "  print(\"Finally finished\")"
      ],
      "metadata": {
        "colab": {
          "base_uri": "https://localhost:8080/"
        },
        "id": "BLzenB-BJ24v",
        "outputId": "d9f1308d-0a54-43fb-f316-b191b2191229"
      },
      "execution_count": null,
      "outputs": [
        {
          "output_type": "stream",
          "name": "stdout",
          "text": [
            "0\n",
            "1\n",
            "2\n",
            "3\n",
            "4\n",
            "5\n",
            "Finally finished\n"
          ]
        }
      ]
    },
    {
      "cell_type": "markdown",
      "source": [
        "List Comprehension"
      ],
      "metadata": {
        "id": "PZ__SEhjLrw9"
      }
    },
    {
      "cell_type": "code",
      "source": [
        "## new_list = [expression for item in iterable]\n",
        "squares = [x ** 2 for x in range(1, 11)]\n",
        "print(squares)"
      ],
      "metadata": {
        "colab": {
          "base_uri": "https://localhost:8080/"
        },
        "id": "mqgwJ3H6LkQr",
        "outputId": "ecca59e5-87af-4685-c3b3-5bb80ca038bb"
      },
      "execution_count": null,
      "outputs": [
        {
          "output_type": "stream",
          "name": "stdout",
          "text": [
            "[1, 4, 9, 16, 25, 36, 49, 64, 81, 100]\n"
          ]
        }
      ]
    },
    {
      "cell_type": "markdown",
      "source": [
        "Generator Expression"
      ],
      "metadata": {
        "id": "AuOGLpm_MqM2"
      }
    },
    {
      "cell_type": "code",
      "source": [
        "squares = (x ** 2 for x in range(1, 11))\n",
        "print(squares)\n",
        "\n",
        "\n",
        "for square in squares:\n",
        "  print(square)"
      ],
      "metadata": {
        "colab": {
          "base_uri": "https://localhost:8080/"
        },
        "id": "AasTADzYMEOX",
        "outputId": "d92fcb87-6f4a-4a8c-fc25-a24d503e2800"
      },
      "execution_count": null,
      "outputs": [
        {
          "output_type": "stream",
          "name": "stdout",
          "text": [
            "<generator object <genexpr> at 0x7d3e0c6f58a0>\n",
            "1\n",
            "4\n",
            "9\n",
            "16\n",
            "25\n",
            "36\n",
            "49\n",
            "64\n",
            "81\n",
            "100\n"
          ]
        }
      ]
    },
    {
      "cell_type": "markdown",
      "source": [
        "Nested for loop"
      ],
      "metadata": {
        "id": "WFBOtCR7NJU2"
      }
    },
    {
      "cell_type": "code",
      "source": [
        "for i in range(1, 6):\n",
        "  for j in range(1, 11):\n",
        "    print(i*j, end='\\t')\n",
        "\n",
        "  print()"
      ],
      "metadata": {
        "colab": {
          "base_uri": "https://localhost:8080/"
        },
        "id": "xjjni0b8My7S",
        "outputId": "2de5330b-24a3-40e9-c281-5c25cf61238d"
      },
      "execution_count": null,
      "outputs": [
        {
          "output_type": "stream",
          "name": "stdout",
          "text": [
            "1\t2\t3\t4\t5\t6\t7\t8\t9\t10\t\n",
            "2\t4\t6\t8\t10\t12\t14\t16\t18\t20\t\n",
            "3\t6\t9\t12\t15\t18\t21\t24\t27\t30\t\n",
            "4\t8\t12\t16\t20\t24\t28\t32\t36\t40\t\n",
            "5\t10\t15\t20\t25\t30\t35\t40\t45\t50\t\n"
          ]
        }
      ]
    },
    {
      "cell_type": "code",
      "source": [
        "n = int(input())\n",
        "\n",
        "sum = 0\n",
        "i = 2\n",
        "\n",
        "while i <= n:\n",
        "  sum += i\n",
        "  i += 2\n",
        "\n",
        "## 2 + 4 + 6 + 8 + 10 + 12 + 14 + 16\n",
        "print(sum)"
      ],
      "metadata": {
        "colab": {
          "base_uri": "https://localhost:8080/"
        },
        "id": "G5KLvHYPNXTf",
        "outputId": "6afdba26-0e9a-4899-f588-ce0169f07792"
      },
      "execution_count": null,
      "outputs": [
        {
          "output_type": "stream",
          "name": "stdout",
          "text": [
            "16\n",
            "72\n"
          ]
        }
      ]
    },
    {
      "cell_type": "markdown",
      "source": [
        "Nested while loop"
      ],
      "metadata": {
        "id": "ZtVLY9TxQDv2"
      }
    },
    {
      "cell_type": "code",
      "source": [
        "outer_count = 0\n",
        "\n",
        "while outer_count < 3:\n",
        "  print(\"Outer loop iteration\", outer_count)\n",
        "\n",
        "  inner_count = 0\n",
        "  while inner_count < 2:\n",
        "    print(\"Inner loop iteration\", inner_count)\n",
        "    inner_count += 1\n",
        "\n",
        "  outer_count += 1"
      ],
      "metadata": {
        "colab": {
          "base_uri": "https://localhost:8080/"
        },
        "id": "M7kxLu4QPpxw",
        "outputId": "217f2d9e-045d-4dec-dbce-d84f04b4f876"
      },
      "execution_count": null,
      "outputs": [
        {
          "output_type": "stream",
          "name": "stdout",
          "text": [
            "Outer loop iteration 0\n",
            "Inner loop iteration 0\n",
            "Inner loop iteration 1\n",
            "Outer loop iteration 1\n",
            "Inner loop iteration 0\n",
            "Inner loop iteration 1\n",
            "Outer loop iteration 2\n",
            "Inner loop iteration 0\n",
            "Inner loop iteration 1\n"
          ]
        }
      ]
    },
    {
      "cell_type": "markdown",
      "source": [
        "Find the sum of all even numbers from 1 to 100 using a for loop."
      ],
      "metadata": {
        "id": "AYv6rVaCR2vn"
      }
    },
    {
      "cell_type": "code",
      "source": [
        "sum_even = 0\n",
        "for number in range(2, 101):\n",
        "    if number % 2 == 0:\n",
        "        sum_even += number\n",
        "print(sum_even)"
      ],
      "metadata": {
        "colab": {
          "base_uri": "https://localhost:8080/"
        },
        "id": "vC2zqE-sQmMx",
        "outputId": "67aaf1be-f438-4506-b0f7-7abb41d766b0"
      },
      "execution_count": null,
      "outputs": [
        {
          "output_type": "stream",
          "name": "stdout",
          "text": [
            "2550\n"
          ]
        }
      ]
    },
    {
      "cell_type": "markdown",
      "source": [
        " Write a program to calculate the factorial of a number using a while loop."
      ],
      "metadata": {
        "id": "b9hXAkzLSCoV"
      }
    },
    {
      "cell_type": "code",
      "source": [
        "num = int(input(\"Enter a number: \"))\n",
        "\n",
        "fact = 1\n",
        "while num > 1:\n",
        "    fact *= num\n",
        "    num -= 1\n",
        "\n",
        "print(fact)"
      ],
      "metadata": {
        "colab": {
          "base_uri": "https://localhost:8080/"
        },
        "id": "lEefEp-QSCIF",
        "outputId": "d1050d9e-2e38-417a-8215-7fa4f81c11ba"
      },
      "execution_count": null,
      "outputs": [
        {
          "output_type": "stream",
          "name": "stdout",
          "text": [
            "Enter a number: 5\n",
            "120\n"
          ]
        }
      ]
    }
  ]
}